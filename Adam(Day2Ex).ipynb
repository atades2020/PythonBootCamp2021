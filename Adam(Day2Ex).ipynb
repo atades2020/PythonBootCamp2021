{
 "cells": [
  {
   "cell_type": "markdown",
   "metadata": {},
   "source": [
    "## Exercises\n",
    "### Write the pseudocode for these problems. \n",
    "\n",
    "#### Define the problem by constructing an IPO diagram showing input, output, and processing steps\n",
    "Ask yourself\n",
    "- What control structures (sequence, selection and repetition) are required?\n",
    "- What variables are required?\n",
    "\n",
    "Show a check of your solution with **test data** for at least **two valid test cases**\n",
    "If you use the numbers provided in the example then the correct pseudocode will calculate the same result.\n",
    "    "
   ]
  },
  {
   "cell_type": "markdown",
   "metadata": {},
   "source": [
    "#### 1. Find the average score\n",
    "A program is needed to prompt the user operator for exam scores, calculate the average score and display the result to the screen. The average score is calculated as the sum of the scores divided by the number of scores."
   ]
  },
  {
   "cell_type": "markdown",
   "metadata": {},
   "source": [
    "input: 10 test scores\n",
    "output: avrage \n",
    "process:\n",
    "algorithm (formula): (N1+N2+N3+N4+N5+N6+N7+N8+N9+N10) /10\n",
    "BEGIN\n",
    "prompt user for number 1\n",
    "get number 1\n",
    "prompt user for number 2\n",
    "get number 2\n",
    "prompt user for number 3\n",
    "get number 3\n",
    "prompt user for number 4\n",
    "get number 4\n",
    "prompt user for number 5\n",
    "get number 5\n",
    "prompt user for number 6\n",
    "get number 6\n",
    "prompt user for number 7\n",
    "get number 7\n",
    "prompt user for number 8\n",
    "get number 8\n",
    "prompt user for number 9\n",
    "get number 9\n",
    "prompt user for number 10\n",
    "get number 10\n",
    "ave= (N1+N2+N3+N4+N5+N6+N7+N8+N9+N10) /10\n",
    "display avg\n",
    "END\n",
    "test data: 1,2,3,4,5,6,7,8,9,10\n",
    "enter a number :1\n",
    "enter a number :2\n",
    "enter a number :3\n",
    "enter a number :4\n",
    "enter a number :5\n",
    "enter a number :6\n",
    "enter a number :7\n",
    "enter a number :8\n",
    "enter a number :9\n",
    "enter a number :10\n",
    "5,5"
   ]
  },
  {
   "cell_type": "markdown",
   "metadata": {},
   "source": [
    "#### 2. How much water runs off a roof in a rain storm?\n",
    "To calculate the runoff from any given rainfall: Take the dimensions of the footprint of the roof and convert them to inches. (So, a 50' x 20' roof is 600\" x 240\"). Multiply the roof dimensions by the number of inches of rainfall. As an example, 600\" x 240\" x 1\" = 144,000 cubic inches of water for an inch of rainfall. Divide that result by 231 to get the number of gallons (because 1 gallon = 231 cubic inches). (144,000/231 = 623.38)."
   ]
  },
  {
   "cell_type": "markdown",
   "metadata": {},
   "source": [
    "Type Markdown and LaTeX:  𝛼2"
   ]
  },
  {
   "cell_type": "markdown",
   "metadata": {},
   "source": [
    "#### 3. Process customer record\n",
    "A program is required to read a customer’s name, a purchase amount and a tax code. The tax code has been validated and will be one of the following: 0 tax exempt (0%) 1 state sales tax only (3%) 2 federal and state sales tax (5%) 3 special sales tax (7%) The program must then compute the sales tax and the total amount due,and print the customer’s name, purchase amount, sales tax and total amount due."
   ]
  },
  {
   "cell_type": "markdown",
   "metadata": {},
   "source": [
    "Input READ \n",
    "Output COMPUTE \n",
    "Process LOOP \n",
    "Read the Customer’s_name, Read the Purchase_amount, Read the Tax_code by using a loop to validate it.\n",
    "\n",
    "BEGIN \n",
    "Input  please enter the amount of purchase \n",
    "Read_User Amount of purchase\n",
    "Read_State Tax = 0.03 * user Amount of Purchase\n",
    "Read_Federal and State Tax = 0.05 * user Amount of Purchase\n",
    "Read_Special Sales Tax = 0.07 * User Amount of Purchase \n",
    "Read_Total Tax = state Tax + federal and State Tax + special Sales Tax\n",
    "Read_Total Sale = user Amount of Purchase + total Tax\n",
    "\n",
    "\n",
    "READ \n",
    "Display sales tax customer info\n",
    "\n",
    "END\n",
    "\n",
    "Test data\n",
    "Customer name Adam Tadesse\n",
    "Amount of purchase $2,000.00\n",
    "State tax: $150\n",
    "Federal and State tax: $50\n",
    "Special Sales Tax: $50\n",
    "Total tax: $150\n",
    "Total Sale: $2,150.00\n",
    "\n"
   ]
  },
  {
   "cell_type": "markdown",
   "metadata": {},
   "source": [
    "#### 4. Calculate employee's pay \n",
    "A program is required by a company to read an employee’s number, pay rate and the number of hours worked in a week. The program is then to validate the pay rate field and the hours worked field and, if valid, compute the employee’s weekly pay and then print it and the input data.\n",
    "\n",
    "Validation: According to the company’s rules, the maximum hours an employee can work per week is 60 hours, and the maximum hourly rate is $25.00 per hour. If the hours worked field or the hourly rate field is out of range, the input data and an appropriate message are to be printed and the employee’s weekly pay is not to be calculated.\n",
    "\n",
    "Weekly pay calculation: Weekly pay is calculated as hours worked times pay rate. If more than 35 hours are worked, payment for the overtime hours worked is calculated at time-and-a-half."
   ]
  },
  {
   "cell_type": "markdown",
   "metadata": {},
   "source": [
    "Input\n",
    "    emp_no\n",
    "    pay_rate\n",
    "    hrs_worked\n",
    "\n",
    "Processing Solution Algorithm : Pseudocode\n",
    "    Read employee details\n",
    "    Validate input fields\n",
    "    Calculate employee pay\n",
    "    Print employee details\n",
    "    \n",
    "Output\n",
    "    emp_no\n",
    "    pay_rate\n",
    "    hrs_worked\n",
    "    emp_weekly_pay\n",
    "    error_message\n",
    "\n",
    "ENDIF\n",
    "    IF valid_input_fields THEN\n",
    "        IF hrs_worked <= 35 THEN\n",
    "            emp_weekly_pay = pay_rate * hrs_worked\n",
    "        ELSE \n",
    "            overtime_hrs = hrs_worked –35\n",
    "            overtime_pay = overtime_hrs * pay_rate * 1.5\n",
    "            emp_weekly_pay = (pay_rate * 35) + overtime_pay\n",
    "            ENDIF\n",
    "        Print emp_no, pay_rate, hrs_worked, emp_weekly_pay\n",
    "    ENDIF\n",
    "END"
   ]
  }
 ],
 "metadata": {
  "kernelspec": {
   "display_name": "Python 3",
   "language": "python",
   "name": "python3"
  },
  "language_info": {
   "codemirror_mode": {
    "name": "ipython",
    "version": 3
   },
   "file_extension": ".py",
   "mimetype": "text/x-python",
   "name": "python",
   "nbconvert_exporter": "python",
   "pygments_lexer": "ipython3",
   "version": "3.8.8"
  }
 },
 "nbformat": 4,
 "nbformat_minor": 2
}
